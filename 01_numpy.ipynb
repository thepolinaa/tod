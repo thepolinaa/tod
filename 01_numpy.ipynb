{
 "cells": [
  {
   "cell_type": "markdown",
   "metadata": {},
   "source": [
    "# Numpy"
   ]
  },
  {
   "cell_type": "markdown",
   "metadata": {},
   "source": [
    "Материалы:\n",
    "* Макрушин С.В. \"Лекция 1: Библиотека Numpy\"\n",
    "* https://numpy.org/doc/stable/user/index.html\n",
    "* https://numpy.org/doc/stable/reference/index.html"
   ]
  },
  {
   "cell_type": "markdown",
   "metadata": {},
   "source": [
    "## Задачи для совместного разбора"
   ]
  },
  {
   "cell_type": "markdown",
   "metadata": {},
   "source": [
    "1. Сгенерировать двухмерный массив `arr` размерности (4, 7), состоящий из случайных действительных чисел, равномерно распределенных в диапазоне от 0 до 20. Нормализовать значения массива с помощью преобразования вида  $𝑎𝑥+𝑏$  так, что после нормализации максимальный элемент масcива будет равен 1.0, минимальный 0.0"
   ]
  },
  {
   "cell_type": "code",
   "execution_count": 1,
   "metadata": {},
   "outputs": [],
   "source": [
    "import numpy as np"
   ]
  },
  {
   "cell_type": "code",
   "execution_count": 2,
   "metadata": {},
   "outputs": [
    {
     "data": {
      "text/plain": [
       "array([[ 0.        ,  0.74074074,  1.48148148,  2.22222222,  2.96296296,\n",
       "         3.7037037 ,  4.44444444],\n",
       "       [ 5.18518519,  5.92592593,  6.66666667,  7.40740741,  8.14814815,\n",
       "         8.88888889,  9.62962963],\n",
       "       [10.37037037, 11.11111111, 11.85185185, 12.59259259, 13.33333333,\n",
       "        14.07407407, 14.81481481],\n",
       "       [15.55555556, 16.2962963 , 17.03703704, 17.77777778, 18.51851852,\n",
       "        19.25925926, 20.        ]])"
      ]
     },
     "execution_count": 2,
     "metadata": {},
     "output_type": "execute_result"
    }
   ],
   "source": [
    "arr = np.linspace(0, 20, 28).reshape(4, 7)\n",
    "arr"
   ]
  },
  {
   "cell_type": "code",
   "execution_count": 3,
   "metadata": {},
   "outputs": [
    {
     "data": {
      "text/plain": [
       "array([[10.58958971, 13.46172196,  3.73373039, 17.34740422, 16.82623378,\n",
       "         1.11339892, 11.20276179],\n",
       "       [ 8.71572774, 19.16157643,  3.03389604,  0.87313726,  3.65632971,\n",
       "        18.45724936,  1.93412817],\n",
       "       [ 3.55899854,  8.08633496,  0.3905106 ,  7.68823679,  3.63914883,\n",
       "        15.95145285,  8.49305847],\n",
       "       [19.50483545,  8.41551871, 19.639174  ,  2.92021273, 18.00018921,\n",
       "        12.84545492, 16.2542192 ]])"
      ]
     },
     "execution_count": 3,
     "metadata": {},
     "output_type": "execute_result"
    }
   ],
   "source": [
    "arr = np.random.uniform(0, 20, (4, 7))\n",
    "arr"
   ]
  },
  {
   "cell_type": "code",
   "execution_count": 4,
   "metadata": {
    "scrolled": true
   },
   "outputs": [
    {
     "data": {
      "text/plain": [
       "(19.639174000493412,\n",
       " 0.3905106019148752,\n",
       " array([[0.52985908, 0.67907112, 0.17368581, 0.88093876, 0.85386309,\n",
       "         0.03755525, 0.56171439],\n",
       "        [0.43250884, 0.97518801, 0.13732826, 0.02507326, 0.16966472,\n",
       "         0.93859705, 0.08019349],\n",
       "        [0.16460821, 0.39981084, 0.        , 0.37912898, 0.16877215,\n",
       "         0.80841677, 0.42094081],\n",
       "        [0.99302089, 0.41691249, 1.        , 0.13142222, 0.91485202,\n",
       "         0.64705502, 0.82414598]]))"
      ]
     },
     "execution_count": 4,
     "metadata": {},
     "output_type": "execute_result"
    }
   ],
   "source": [
    "mx = np.max(arr)\n",
    "mn = np.min(arr)\n",
    "arr = (arr - mn)/(mx - mn)\n",
    "mx, mn, arr"
   ]
  },
  {
   "cell_type": "markdown",
   "metadata": {},
   "source": [
    "Нормализация вида ax+b"
   ]
  },
  {
   "cell_type": "code",
   "execution_count": 5,
   "metadata": {},
   "outputs": [
    {
     "name": "stdout",
     "output_type": "stream",
     "text": [
      "1.0 -0.0\n"
     ]
    },
    {
     "data": {
      "text/plain": [
       "array([[0.52985908, 0.67907112, 0.17368581, 0.88093876, 0.85386309,\n",
       "        0.03755525, 0.56171439],\n",
       "       [0.43250884, 0.97518801, 0.13732826, 0.02507326, 0.16966472,\n",
       "        0.93859705, 0.08019349],\n",
       "       [0.16460821, 0.39981084, 0.        , 0.37912898, 0.16877215,\n",
       "        0.80841677, 0.42094081],\n",
       "       [0.99302089, 0.41691249, 1.        , 0.13142222, 0.91485202,\n",
       "        0.64705502, 0.82414598]])"
      ]
     },
     "execution_count": 5,
     "metadata": {},
     "output_type": "execute_result"
    }
   ],
   "source": [
    "mx = np.max(arr)\n",
    "mn = np.min(arr)\n",
    "\n",
    "a = 1/(mx-mn)\n",
    "b = -a*mn\n",
    "print(a, b)\n",
    "\n",
    "nr_arr = a*arr+b\n",
    "nr_arr"
   ]
  },
  {
   "cell_type": "markdown",
   "metadata": {},
   "source": [
    "2. Создать матрицу 8 на 10 из случайных целых (используя модуль `numpy.random`) чисел из диапозона от 0 до 10 и найти в ней строку (ее индекс и вывести саму строку), в которой сумма значений минимальна."
   ]
  },
  {
   "cell_type": "code",
   "execution_count": 6,
   "metadata": {},
   "outputs": [
    {
     "data": {
      "text/plain": [
       "(array([[9, 8, 5, 5, 7, 7, 6, 4, 1, 0],\n",
       "        [6, 0, 3, 3, 2, 6, 4, 3, 4, 3],\n",
       "        [8, 1, 6, 4, 0, 0, 3, 8, 8, 8],\n",
       "        [9, 9, 7, 5, 6, 5, 4, 2, 8, 8],\n",
       "        [9, 7, 4, 3, 9, 2, 5, 5, 9, 5],\n",
       "        [0, 5, 3, 6, 9, 3, 2, 8, 1, 7],\n",
       "        [2, 7, 7, 1, 8, 1, 2, 6, 1, 5],\n",
       "        [3, 1, 9, 1, 0, 5, 1, 7, 4, 4]]),\n",
       " array([52, 34, 46, 63, 58, 44, 40, 35]),\n",
       " 34,\n",
       " (array([1], dtype=int64),),\n",
       " array([[6, 0, 3, 3, 2, 6, 4, 3, 4, 3]]))"
      ]
     },
     "execution_count": 6,
     "metadata": {},
     "output_type": "execute_result"
    }
   ],
   "source": [
    "rnd_arr = np.random.randint(0, 10, size=(8, 10))\n",
    "sum_lines = np.sum(rnd_arr, axis=1)\n",
    "i = np.where(sum_lines == min(sum_lines))\n",
    "\n",
    "rnd_arr, sum_lines, min(sum_lines), i, rnd_arr[i]"
   ]
  },
  {
   "cell_type": "code",
   "execution_count": 7,
   "metadata": {},
   "outputs": [
    {
     "data": {
      "text/plain": [
       "(array([[0, 1, 0, 7, 3, 2, 3, 5, 8, 7],\n",
       "        [7, 1, 8, 0, 3, 1, 7, 0, 9, 8],\n",
       "        [4, 0, 9, 8, 0, 5, 6, 5, 9, 6],\n",
       "        [5, 9, 6, 2, 0, 8, 1, 5, 7, 4],\n",
       "        [9, 7, 8, 4, 8, 9, 4, 5, 2, 1],\n",
       "        [6, 4, 6, 0, 9, 8, 8, 6, 7, 3],\n",
       "        [0, 2, 8, 1, 0, 3, 3, 5, 7, 1],\n",
       "        [5, 4, 2, 6, 9, 7, 9, 0, 4, 2]]),\n",
       " array([[0, 2, 8, 1, 0, 3, 3, 5, 7, 1]]),\n",
       " (array([6], dtype=int64),))"
      ]
     },
     "execution_count": 7,
     "metadata": {},
     "output_type": "execute_result"
    }
   ],
   "source": [
    "rnd_arr = np.random.randint(0, 10, size=(8, 10))\n",
    "i = np.where(np.sum(rnd_arr, axis=1) == min(np.sum(rnd_arr, axis=1)))\n",
    "rnd_arr, rnd_arr[i], i"
   ]
  },
  {
   "cell_type": "markdown",
   "metadata": {},
   "source": [
    "3. Найти евклидово расстояние между двумя одномерными векторами одинаковой размерности."
   ]
  },
  {
   "cell_type": "code",
   "execution_count": 8,
   "metadata": {},
   "outputs": [
    {
     "data": {
      "text/plain": [
       "13.152946437965905"
      ]
     },
     "execution_count": 8,
     "metadata": {},
     "output_type": "execute_result"
    }
   ],
   "source": [
    "a = np.array([0, 0, 0, 13])\n",
    "b = np.array([6, 4, 0, 2])\n",
    "sum((a-b)**2)**0.5"
   ]
  },
  {
   "cell_type": "markdown",
   "metadata": {},
   "source": [
    "4. Решить матричное уравнение `A*X*B=-C` - найти матрицу `X`. Где `A = [[-1, 2, 4], [-3, 1, 2], [-3, 0, 1]]`, `B=[[3, -1], [2, 1]]`, `C=[[7, 21], [11, 8], [8, 4]]`."
   ]
  },
  {
   "cell_type": "code",
   "execution_count": 9,
   "metadata": {},
   "outputs": [
    {
     "data": {
      "text/plain": [
       "matrix([[ 1.00000000e+00,  1.11022302e-15],\n",
       "        [-2.00000000e+00,  1.00000000e+00],\n",
       "        [ 3.00000000e+00, -4.00000000e+00]])"
      ]
     },
     "execution_count": 9,
     "metadata": {},
     "output_type": "execute_result"
    }
   ],
   "source": [
    "A = np.matrix(\n",
    "    [[-1, 2, 4], \n",
    "     [-3, 1, 2], \n",
    "     [-3, 0, 1]])\n",
    "\n",
    "B = np.matrix(\n",
    "    [[3, -1], \n",
    "     [2, 1]])\n",
    "\n",
    "C = np.matrix(\n",
    "    [[7, 21], \n",
    "     [11, 8], \n",
    "     [8, 4]])\n",
    "\n",
    "x = np.linalg.inv(A)*(-C)*np.linalg.inv(B)\n",
    "x"
   ]
  },
  {
   "cell_type": "code",
   "execution_count": 10,
   "metadata": {},
   "outputs": [
    {
     "data": {
      "text/plain": [
       "matrix([[ 1.00000000e+00,  1.11022302e-15],\n",
       "        [-2.00000000e+00,  1.00000000e+00],\n",
       "        [ 3.00000000e+00, -4.00000000e+00]])"
      ]
     },
     "execution_count": 10,
     "metadata": {},
     "output_type": "execute_result"
    }
   ],
   "source": [
    "-np.linalg.inv(A).dot(C).dot(np.linalg.inv(B))"
   ]
  },
  {
   "cell_type": "markdown",
   "metadata": {},
   "source": [
    "## Лабораторная работа №1"
   ]
  },
  {
   "cell_type": "markdown",
   "metadata": {},
   "source": [
    "Замечание: при решении данных задач не подразумевается использования циклов или генераторов Python, если в задании не сказано обратного. Решение должно опираться на использования функционала библиотеки `numpy`."
   ]
  },
  {
   "cell_type": "markdown",
   "metadata": {},
   "source": [
    "1. Файл `minutes_n_ingredients.csv` содержит информацию об идентификаторе рецепта, времени его выполнения в минутах и количестве необходимых ингредиентов. Считайте данные из этого файла в виде массива `numpy` типа `int32`, используя `np.loadtxt`. Выведите на экран первые 5 строк массива."
   ]
  },
  {
   "cell_type": "code",
   "execution_count": 11,
   "metadata": {},
   "outputs": [
    {
     "data": {
      "text/plain": [
       "array([[127244,     60,     16],\n",
       "       [ 23891,     25,      7],\n",
       "       [ 94746,     10,      6],\n",
       "       ...,\n",
       "       [498432,     65,     15],\n",
       "       [370915,      5,      4],\n",
       "       [ 81993,    140,     14]])"
      ]
     },
     "execution_count": 11,
     "metadata": {},
     "output_type": "execute_result"
    }
   ],
   "source": [
    "data = np.loadtxt('files/minutes_n_ingredients.csv', dtype=np.int32, delimiter=',', skiprows=1)\n",
    "data"
   ]
  },
  {
   "cell_type": "markdown",
   "metadata": {},
   "source": [
    "2. Вычислите среднее значение, минимум, максимум и медиану по каждому из столбцов, кроме первого."
   ]
  },
  {
   "cell_type": "code",
   "execution_count": 12,
   "metadata": {},
   "outputs": [
    {
     "name": "stdout",
     "output_type": "stream",
     "text": [
      "#1: min = 0 max = 2147483647, mean = 21601.00169, median = 40.0\n",
      "#2: min = 1 max = 39, mean = 9.05528, median = 9.0\n"
     ]
    }
   ],
   "source": [
    "for i in range(1, data.shape[1]):\n",
    "    print(f'#{i}: min = {data[:, i].min()} max = {data[:, i].max()}, mean = {data[:, i].mean()}, median = {np.median(data[:, i])}')"
   ]
  },
  {
   "cell_type": "code",
   "execution_count": 13,
   "metadata": {},
   "outputs": [
    {
     "data": {
      "text/plain": [
       "(100000, 3)"
      ]
     },
     "execution_count": 13,
     "metadata": {},
     "output_type": "execute_result"
    }
   ],
   "source": [
    "data.shape"
   ]
  },
  {
   "cell_type": "markdown",
   "metadata": {},
   "source": [
    "3. Ограничьте сверху значения продолжительности выполнения рецепта значением квантиля $q_{0.75}$. "
   ]
  },
  {
   "cell_type": "code",
   "execution_count": 14,
   "metadata": {},
   "outputs": [
    {
     "name": "stdout",
     "output_type": "stream",
     "text": [
      "65.0\n"
     ]
    },
    {
     "data": {
      "text/plain": [
       "array([[127244,     60,     16],\n",
       "       [ 23891,     25,      7],\n",
       "       [ 94746,     10,      6],\n",
       "       ...,\n",
       "       [498432,     65,     15],\n",
       "       [370915,      5,      4],\n",
       "       [ 81993,     65,     14]])"
      ]
     },
     "execution_count": 14,
     "metadata": {},
     "output_type": "execute_result"
    }
   ],
   "source": [
    "quantile_75 = np.quantile(data[:, 1], 0.75)\n",
    "print(quantile_75)\n",
    "data[:, 1] = np.where(data[:, 1] > quantile_75, quantile_75, data[:, 1])\n",
    "data"
   ]
  },
  {
   "cell_type": "markdown",
   "metadata": {},
   "source": [
    "4. Посчитайте, для скольких рецептов указана продолжительность, равная нулю. Замените для таких строк значение в данном столбце на 1."
   ]
  },
  {
   "cell_type": "code",
   "execution_count": 15,
   "metadata": {},
   "outputs": [
    {
     "name": "stdout",
     "output_type": "stream",
     "text": [
      "479\n"
     ]
    },
    {
     "data": {
      "text/plain": [
       "array([[127244,     60,     16],\n",
       "       [ 23891,     25,      7],\n",
       "       [ 94746,     10,      6],\n",
       "       ...,\n",
       "       [498432,     65,     15],\n",
       "       [370915,      5,      4],\n",
       "       [ 81993,     65,     14]])"
      ]
     },
     "execution_count": 15,
     "metadata": {},
     "output_type": "execute_result"
    }
   ],
   "source": [
    "print(np.count_nonzero(data[:, 1] == 0))\n",
    "data[:, 1] = np.where(data[:, 1] != 0, data[:, 1], 1)\n",
    "data"
   ]
  },
  {
   "cell_type": "markdown",
   "metadata": {},
   "source": [
    "5. Посчитайте, сколько уникальных рецептов находится в датасете."
   ]
  },
  {
   "cell_type": "code",
   "execution_count": 16,
   "metadata": {},
   "outputs": [
    {
     "data": {
      "text/plain": [
       "65"
      ]
     },
     "execution_count": 16,
     "metadata": {},
     "output_type": "execute_result"
    }
   ],
   "source": [
    "len(np.unique(data[:, 1:3])) # Искал разные ID, так как не понятно, что такое разные рецепты"
   ]
  },
  {
   "cell_type": "markdown",
   "metadata": {},
   "source": [
    "6. Сколько и каких различных значений кол-ва ингредиентов присутвует в рецептах из датасета?"
   ]
  },
  {
   "cell_type": "code",
   "execution_count": 17,
   "metadata": {},
   "outputs": [
    {
     "data": {
      "text/plain": [
       "(37,\n",
       " array([ 1,  2,  3,  4,  5,  6,  7,  8,  9, 10, 11, 12, 13, 14, 15, 16, 17,\n",
       "        18, 19, 20, 21, 22, 23, 24, 25, 26, 27, 28, 29, 30, 31, 32, 33, 34,\n",
       "        35, 37, 39]))"
      ]
     },
     "execution_count": 17,
     "metadata": {},
     "output_type": "execute_result"
    }
   ],
   "source": [
    "len(np.unique(data[:, 2])), np.unique(data[:, 2])"
   ]
  },
  {
   "cell_type": "markdown",
   "metadata": {},
   "source": [
    "7. Создайте версию массива, содержащую информацию только о рецептах, состоящих не более чем из 5 ингредиентов."
   ]
  },
  {
   "cell_type": "code",
   "execution_count": 18,
   "metadata": {},
   "outputs": [
    {
     "data": {
      "text/plain": [
       "(array([[446597,     15,      5],\n",
       "        [204134,      5,      3],\n",
       "        [ 25623,      6,      4],\n",
       "        ...,\n",
       "        [ 52088,     60,      5],\n",
       "        [128811,     15,      4],\n",
       "        [370915,      5,      4]]),\n",
       " (17262, 3))"
      ]
     },
     "execution_count": 18,
     "metadata": {},
     "output_type": "execute_result"
    }
   ],
   "source": [
    "short_cut = data[np.where(data[:, 2] <= 5)[0]]\n",
    "short_cut, short_cut.shape"
   ]
  },
  {
   "cell_type": "markdown",
   "metadata": {},
   "source": [
    "8. Для каждого рецепта посчитайте, сколько в среднем ингредиентов приходится на одну минуту рецепта. Найдите максимальное значение этой величины для всего датасета"
   ]
  },
  {
   "cell_type": "code",
   "execution_count": 19,
   "metadata": {},
   "outputs": [
    {
     "data": {
      "text/plain": [
       "(24.0,\n",
       " array([0.26666667, 0.28      , 0.6       , ..., 0.23076923, 0.8       ,\n",
       "        0.21538462]))"
      ]
     },
     "execution_count": 19,
     "metadata": {},
     "output_type": "execute_result"
    }
   ],
   "source": [
    "np.max(data[:, 2]/data[:, 1]), data[:, 2]/data[:, 1]"
   ]
  },
  {
   "cell_type": "markdown",
   "metadata": {},
   "source": [
    "9. Вычислите среднее количество ингредиентов для топ-100 рецептов с наибольшей продолжительностью"
   ]
  },
  {
   "cell_type": "code",
   "execution_count": 20,
   "metadata": {},
   "outputs": [
    {
     "data": {
      "text/plain": [
       "9.96"
      ]
     },
     "execution_count": 20,
     "metadata": {},
     "output_type": "execute_result"
    }
   ],
   "source": [
    "sorted_indices = np.argsort(data[:, 1])[-100:]\n",
    "sorted_array = data[sorted_indices]\n",
    "sorted_array[:, 2].mean()"
   ]
  },
  {
   "cell_type": "code",
   "execution_count": 21,
   "metadata": {},
   "outputs": [
    {
     "name": "stdout",
     "output_type": "stream",
     "text": [
      "Среднее количество ингредиентов для топ-100 рецептов с наибольшей продолжительностью: 9.96\n"
     ]
    }
   ],
   "source": [
    "# Сортировка рецептов по продолжительности выполнения\n",
    "sorted_data = data[data[:, 1].argsort()[::-1]]\n",
    "\n",
    "# Выбор топ-100 рецептов с наибольшей продолжительностью\n",
    "top_100_recipes = sorted_data[:100]\n",
    "\n",
    "# Вычисление среднего количества ингредиентов для топ-100 рецептов\n",
    "mean_ingredients_top_100 = np.mean(top_100_recipes[:, 2])\n",
    "\n",
    "# Вывод результата\n",
    "print(\"Среднее количество ингредиентов для топ-100 рецептов с наибольшей продолжительностью:\", mean_ingredients_top_100)"
   ]
  },
  {
   "cell_type": "code",
   "execution_count": 22,
   "metadata": {},
   "outputs": [
    {
     "name": "stdout",
     "output_type": "stream",
     "text": [
      "Среднее количество ингредиентов для топ-100 рецептов: 9.96\n"
     ]
    }
   ],
   "source": [
    "sorted_data9 = data[data[:, 1].argsort()[::-1]]\n",
    "top_100_recipes = sorted_data9[:100]\n",
    "avg_ingredients = np.average(top_100_recipes[:, 2])\n",
    "print(\"Среднее количество ингредиентов для топ-100 рецептов:\", avg_ingredients)"
   ]
  },
  {
   "cell_type": "markdown",
   "metadata": {},
   "source": [
    "10. Выберите случайным образом и выведите информацию о 10 различных рецептах"
   ]
  },
  {
   "cell_type": "code",
   "execution_count": 23,
   "metadata": {},
   "outputs": [
    {
     "data": {
      "text/plain": [
       "array([[192000,     40,     15],\n",
       "       [210730,     55,      9],\n",
       "       [512488,     45,     12],\n",
       "       [172926,     65,     13],\n",
       "       [384584,     40,      5],\n",
       "       [124985,     15,      5],\n",
       "       [262473,     10,      5],\n",
       "       [311653,     35,     12],\n",
       "       [202551,     20,      4],\n",
       "       [215181,      5,      9]])"
      ]
     },
     "execution_count": 23,
     "metadata": {},
     "output_type": "execute_result"
    }
   ],
   "source": [
    "idx = np.random.randint(data.shape[0], size=10)\n",
    "data[idx, :]"
   ]
  },
  {
   "cell_type": "code",
   "execution_count": 24,
   "metadata": {},
   "outputs": [
    {
     "name": "stdout",
     "output_type": "stream",
     "text": [
      "Информация о случайно выбранных рецептах:\n",
      "[[281838     10     11]\n",
      " [ 37736     10      5]\n",
      " [237302     15      4]\n",
      " [214633     55      8]\n",
      " [211253     10      5]\n",
      " [456235     20      6]\n",
      " [ 47450     27      8]\n",
      " [ 30898     65     14]\n",
      " [194910     40     14]\n",
      " [ 49243     60      8]]\n"
     ]
    }
   ],
   "source": [
    "random_indices = np.random.choice(len(data), size=10, replace=False)\n",
    "\n",
    "random_recipes = data[random_indices]\n",
    "\n",
    "print(\"Информация о случайно выбранных рецептах:\")\n",
    "print(random_recipes)"
   ]
  },
  {
   "cell_type": "markdown",
   "metadata": {},
   "source": [
    "11. Выведите процент рецептов, кол-во ингредиентов в которых меньше среднего."
   ]
  },
  {
   "cell_type": "code",
   "execution_count": 25,
   "metadata": {},
   "outputs": [
    {
     "data": {
      "text/plain": [
       "'58.802%'"
      ]
     },
     "execution_count": 25,
     "metadata": {},
     "output_type": "execute_result"
    }
   ],
   "source": [
    "str(len(np.where(data[:, 2] < data[:, 2].mean())[0])/data.shape[0]*100) + \"%\""
   ]
  },
  {
   "cell_type": "markdown",
   "metadata": {},
   "source": [
    "12. Назовем \"простым\" такой рецепт, длительность выполнения которого не больше 20 минут и кол-во ингредиентов в котором не больше 5. Создайте версию датасета с дополнительным столбцом, значениями которого являются 1, если рецепт простой, и 0 в противном случае."
   ]
  },
  {
   "cell_type": "code",
   "execution_count": 30,
   "metadata": {},
   "outputs": [
    {
     "data": {
      "text/plain": [
       "array([[127244,     60,     16,      0],\n",
       "       [ 23891,     25,      7,      0],\n",
       "       [ 94746,     10,      6,      0],\n",
       "       ...,\n",
       "       [498432,     65,     15,      0],\n",
       "       [370915,      5,      4,      1],\n",
       "       [ 81993,     65,     14,      0]])"
      ]
     },
     "execution_count": 30,
     "metadata": {},
     "output_type": "execute_result"
    }
   ],
   "source": [
    "good_recepts = np.zeros((data.shape[0], 4), dtype=int) # Создаём пустой датасет\n",
    "good_recepts[:, :3] = data # Заполняем первые 3\n",
    "good_recepts[np.where((data[:, 2] <= 5) & (data[:, 1] <= 20)), 3] = 1\n",
    "good_recepts"
   ]
  },
  {
   "cell_type": "markdown",
   "metadata": {},
   "source": [
    "13. Выведите процент \"простых\" рецептов в датасете"
   ]
  },
  {
   "cell_type": "code",
   "execution_count": 27,
   "metadata": {},
   "outputs": [
    {
     "data": {
      "text/plain": [
       "'9.552%'"
      ]
     },
     "execution_count": 27,
     "metadata": {},
     "output_type": "execute_result"
    }
   ],
   "source": [
    "str(sum(good_recepts[:, 3])/data.shape[0]*100) + '%'"
   ]
  },
  {
   "cell_type": "markdown",
   "metadata": {},
   "source": [
    "14. Разделим рецепты на группы по следующему правилу. Назовем рецепты короткими, если их продолжительность составляет менее 10 минут; стандартными, если их продолжительность составляет более 10, но менее 20 минут; и длинными, если их продолжительность составляет не менее 20 минут. Создайте трехмерный массив, где нулевая ось отвечает за номер группы (короткий, стандартный или длинный рецепт), первая ось - за сам рецепт и вторая ось - за характеристики рецепта. Выберите максимальное количество рецептов из каждой группы таким образом, чтобы было возможно сформировать трехмерный массив. Выведите форму полученного массива."
   ]
  },
  {
   "cell_type": "code",
   "execution_count": 28,
   "metadata": {},
   "outputs": [
    {
     "data": {
      "text/plain": [
       "((3, 7588, 3),\n",
       " array([[[ 67660,      5,      6],\n",
       "         [366174,      7,      9],\n",
       "         [204134,      5,      3],\n",
       "         ...,\n",
       "         [420725,      5,      3],\n",
       "         [  4747,      1,      9],\n",
       "         [370915,      5,      4]],\n",
       " \n",
       "        [[ 94746,     10,      6],\n",
       "         [ 33941,     18,      9],\n",
       "         [446597,     15,      5],\n",
       "         ...,\n",
       "         [  9831,     15,      7],\n",
       "         [335859,     12,     14],\n",
       "         [256812,     10,      3]],\n",
       " \n",
       "        [[127244,     60,     16],\n",
       "         [ 23891,     25,      7],\n",
       "         [157911,     60,     14],\n",
       "         ...,\n",
       "         [168901,     25,      7],\n",
       "         [392339,     35,     13],\n",
       "         [206732,     45,     10]]]))"
      ]
     },
     "execution_count": 28,
     "metadata": {},
     "output_type": "execute_result"
    }
   ],
   "source": [
    "short_recipes = data[data[:, 1] < 10]\n",
    "standard_recipes = data[(data[:, 1] >= 10) & (data[:, 1] < 20)]\n",
    "long_recipes = data[data[:, 1] >= 20]\n",
    "\n",
    "max_length = min(len(short_recipes), len(standard_recipes), len(long_recipes))\n",
    "\n",
    "three_dimensional_array = np.zeros((3, max_length, 3), dtype=int)\n",
    "\n",
    "three_dimensional_array[0, :max_length, :] = short_recipes[:max_length]\n",
    "three_dimensional_array[1, :max_length, :] = standard_recipes[:max_length]\n",
    "three_dimensional_array[2, :max_length, :] = long_recipes[:max_length]\n",
    "\n",
    "three_dimensional_array.shape, three_dimensional_array"
   ]
  }
 ],
 "metadata": {
  "kernelspec": {
   "display_name": "Python 3 (ipykernel)",
   "language": "python",
   "name": "python3"
  },
  "language_info": {
   "codemirror_mode": {
    "name": "ipython",
    "version": 3
   },
   "file_extension": ".py",
   "mimetype": "text/x-python",
   "name": "python",
   "nbconvert_exporter": "python",
   "pygments_lexer": "ipython3",
   "version": "3.11.5"
  }
 },
 "nbformat": 4,
 "nbformat_minor": 4
}
